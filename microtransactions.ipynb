{
 "cells": [
  {
   "cell_type": "markdown",
   "metadata": {},
   "source": [
    "# Project: Hypothesis Testing for Microtransactions\n",
    "Brian is a Product Manager at FarmBurg, a company that makes a farming simulation social network game.  In the FarmBurg game, you can plow, plant, and harvest different crops.\n",
    "\n",
    "Today, you will be acting as Brian's data analyst for an A/B Test that he has been conducting."
   ]
  },
  {
   "cell_type": "markdown",
   "metadata": {},
   "source": [
    "## Part 1: Testing for Significant Difference"
   ]
  },
  {
   "cell_type": "markdown",
   "metadata": {},
   "source": [
    "Start by importing the following modules that you'll need for this project:\n",
    "- `pandas` as `pd`"
   ]
  },
  {
   "cell_type": "code",
   "execution_count": 3,
   "metadata": {
    "collapsed": false
   },
   "outputs": [],
   "source": [
    "import pandas as pd\n",
    "import numpy as np"
   ]
  },
  {
   "cell_type": "markdown",
   "metadata": {},
   "source": [
    "Brian tells you that he ran an A/B test with three different groups: A, B, and C.  You're kind of busy today, so you don't ask too many questions about the differences between A, B, and C.  Maybe they were shown three different versions of an ad.  Who cares?\n",
    "\n",
    "(HINT: you will care later)\n",
    "\n",
    "Brian gives you a CSV of results called `clicks.csv`.  It has the following columns:\n",
    "- `user_id`: a unique id for each visitor to the FarmBerg site\n",
    "- `ab_test_group`: either `A`, `B`, or `C` depending on which group the visitor was assigned to\n",
    "- `click_day`: only filled in *if* the user clicked on a link to purchase\n",
    "\n",
    "Load `clicks.csv` into the variable `df`."
   ]
  },
  {
   "cell_type": "code",
   "execution_count": 4,
   "metadata": {
    "collapsed": true
   },
   "outputs": [],
   "source": [
    "df = pd.read_csv('clicks.csv')"
   ]
  },
  {
   "cell_type": "code",
   "execution_count": 5,
   "metadata": {
    "collapsed": false
   },
   "outputs": [
    {
     "data": {
      "text/html": [
       "<div>\n",
       "<table border=\"1\" class=\"dataframe\">\n",
       "  <thead>\n",
       "    <tr style=\"text-align: right;\">\n",
       "      <th></th>\n",
       "      <th>user_id</th>\n",
       "      <th>group</th>\n",
       "      <th>click_day</th>\n",
       "    </tr>\n",
       "  </thead>\n",
       "  <tbody>\n",
       "    <tr>\n",
       "      <th>0</th>\n",
       "      <td>8e27bf9a-5b6e-41ed-801a-a59979c0ca98</td>\n",
       "      <td>A</td>\n",
       "      <td>none</td>\n",
       "    </tr>\n",
       "    <tr>\n",
       "      <th>1</th>\n",
       "      <td>eb89e6f0-e682-4f79-99b1-161cc1c096f1</td>\n",
       "      <td>A</td>\n",
       "      <td>none</td>\n",
       "    </tr>\n",
       "    <tr>\n",
       "      <th>2</th>\n",
       "      <td>7119106a-7a95-417b-8c4c-092c12ee5ef7</td>\n",
       "      <td>A</td>\n",
       "      <td>none</td>\n",
       "    </tr>\n",
       "    <tr>\n",
       "      <th>3</th>\n",
       "      <td>e53781ff-ff7a-4fcd-af1a-adba02b2b954</td>\n",
       "      <td>A</td>\n",
       "      <td>none</td>\n",
       "    </tr>\n",
       "    <tr>\n",
       "      <th>4</th>\n",
       "      <td>02d48cf1-1ae6-40b3-9d8b-8208884a0904</td>\n",
       "      <td>A</td>\n",
       "      <td>Saturday</td>\n",
       "    </tr>\n",
       "    <tr>\n",
       "      <th>5</th>\n",
       "      <td>5a3ca2d6-25d5-4909-8f07-519f71ee55e8</td>\n",
       "      <td>A</td>\n",
       "      <td>none</td>\n",
       "    </tr>\n",
       "    <tr>\n",
       "      <th>6</th>\n",
       "      <td>6b929341-1336-4c34-965b-92e368ab160b</td>\n",
       "      <td>A</td>\n",
       "      <td>none</td>\n",
       "    </tr>\n",
       "    <tr>\n",
       "      <th>7</th>\n",
       "      <td>90b0a07b-e20e-4e0a-872e-5cc303c5676b</td>\n",
       "      <td>A</td>\n",
       "      <td>none</td>\n",
       "    </tr>\n",
       "    <tr>\n",
       "      <th>8</th>\n",
       "      <td>4b16c922-b2ab-48a8-885c-713ebf0ae159</td>\n",
       "      <td>A</td>\n",
       "      <td>none</td>\n",
       "    </tr>\n",
       "    <tr>\n",
       "      <th>9</th>\n",
       "      <td>5eb5fc03-fbda-4149-b909-4f5fbc6b152f</td>\n",
       "      <td>A</td>\n",
       "      <td>none</td>\n",
       "    </tr>\n",
       "    <tr>\n",
       "      <th>10</th>\n",
       "      <td>389ff492-4635-4535-8e42-685f771fccb1</td>\n",
       "      <td>A</td>\n",
       "      <td>none</td>\n",
       "    </tr>\n",
       "    <tr>\n",
       "      <th>11</th>\n",
       "      <td>1d25885b-56c7-4fdd-bee8-6348c1386bf0</td>\n",
       "      <td>A</td>\n",
       "      <td>Thursday</td>\n",
       "    </tr>\n",
       "    <tr>\n",
       "      <th>12</th>\n",
       "      <td>4546807b-8211-4e7b-94cf-4f9c879e284b</td>\n",
       "      <td>A</td>\n",
       "      <td>none</td>\n",
       "    </tr>\n",
       "    <tr>\n",
       "      <th>13</th>\n",
       "      <td>c447f7f4-a419-41c6-af31-0a17f7943816</td>\n",
       "      <td>A</td>\n",
       "      <td>none</td>\n",
       "    </tr>\n",
       "    <tr>\n",
       "      <th>14</th>\n",
       "      <td>e75754d9-9342-4f1f-84e1-75c340ef78b2</td>\n",
       "      <td>A</td>\n",
       "      <td>none</td>\n",
       "    </tr>\n",
       "    <tr>\n",
       "      <th>15</th>\n",
       "      <td>0d38042c-2296-4526-b21c-6b00805688d4</td>\n",
       "      <td>A</td>\n",
       "      <td>Friday</td>\n",
       "    </tr>\n",
       "    <tr>\n",
       "      <th>16</th>\n",
       "      <td>a54eeb29-1406-4032-bc2c-7d8166e4641a</td>\n",
       "      <td>A</td>\n",
       "      <td>none</td>\n",
       "    </tr>\n",
       "    <tr>\n",
       "      <th>17</th>\n",
       "      <td>b54a48e0-ae75-44db-8421-d40cfa5cc3a7</td>\n",
       "      <td>A</td>\n",
       "      <td>none</td>\n",
       "    </tr>\n",
       "    <tr>\n",
       "      <th>18</th>\n",
       "      <td>1a2ad0c4-3cb0-4346-9f77-6e42082a7433</td>\n",
       "      <td>A</td>\n",
       "      <td>Wednesday</td>\n",
       "    </tr>\n",
       "    <tr>\n",
       "      <th>19</th>\n",
       "      <td>512ab2bb-0c2e-46a1-9f34-40b3d2ecee1a</td>\n",
       "      <td>A</td>\n",
       "      <td>none</td>\n",
       "    </tr>\n",
       "    <tr>\n",
       "      <th>20</th>\n",
       "      <td>43d00167-768d-4488-ba32-650c8ab05a06</td>\n",
       "      <td>A</td>\n",
       "      <td>none</td>\n",
       "    </tr>\n",
       "    <tr>\n",
       "      <th>21</th>\n",
       "      <td>0d28dceb-c377-40f1-a238-a0ef1c525dd4</td>\n",
       "      <td>A</td>\n",
       "      <td>Tuesday</td>\n",
       "    </tr>\n",
       "    <tr>\n",
       "      <th>22</th>\n",
       "      <td>e66d263e-6746-4489-8ef6-8ab32c09a8c6</td>\n",
       "      <td>A</td>\n",
       "      <td>none</td>\n",
       "    </tr>\n",
       "    <tr>\n",
       "      <th>23</th>\n",
       "      <td>5a795c56-8047-4546-a00c-2fa5fae5474e</td>\n",
       "      <td>A</td>\n",
       "      <td>none</td>\n",
       "    </tr>\n",
       "    <tr>\n",
       "      <th>24</th>\n",
       "      <td>1cd795a0-c6a3-489d-ba09-7ad9b6d90a98</td>\n",
       "      <td>A</td>\n",
       "      <td>Thursday</td>\n",
       "    </tr>\n",
       "    <tr>\n",
       "      <th>25</th>\n",
       "      <td>8e65d46a-a61d-465c-b2a7-c534bec6219b</td>\n",
       "      <td>A</td>\n",
       "      <td>none</td>\n",
       "    </tr>\n",
       "    <tr>\n",
       "      <th>26</th>\n",
       "      <td>d2d00ec5-48ac-4813-9b03-cc6da1354bd7</td>\n",
       "      <td>A</td>\n",
       "      <td>none</td>\n",
       "    </tr>\n",
       "    <tr>\n",
       "      <th>27</th>\n",
       "      <td>02f09387-0949-489e-bc49-508e4ae5a0be</td>\n",
       "      <td>A</td>\n",
       "      <td>Monday</td>\n",
       "    </tr>\n",
       "    <tr>\n",
       "      <th>28</th>\n",
       "      <td>e395b3fb-46af-4e1c-b8d4-a1c4f490b46e</td>\n",
       "      <td>A</td>\n",
       "      <td>none</td>\n",
       "    </tr>\n",
       "    <tr>\n",
       "      <th>29</th>\n",
       "      <td>c9499054-f8ac-4973-869f-14704694a1a9</td>\n",
       "      <td>A</td>\n",
       "      <td>none</td>\n",
       "    </tr>\n",
       "    <tr>\n",
       "      <th>...</th>\n",
       "      <td>...</td>\n",
       "      <td>...</td>\n",
       "      <td>...</td>\n",
       "    </tr>\n",
       "    <tr>\n",
       "      <th>4968</th>\n",
       "      <td>563462e3-f22c-453d-a645-b1cf37ac0316</td>\n",
       "      <td>C</td>\n",
       "      <td>none</td>\n",
       "    </tr>\n",
       "    <tr>\n",
       "      <th>4969</th>\n",
       "      <td>25d3b1df-8580-4533-947d-66ba9cba20c0</td>\n",
       "      <td>C</td>\n",
       "      <td>none</td>\n",
       "    </tr>\n",
       "    <tr>\n",
       "      <th>4970</th>\n",
       "      <td>ebd8e192-0a13-49df-a4c4-b9c482f48e6f</td>\n",
       "      <td>C</td>\n",
       "      <td>none</td>\n",
       "    </tr>\n",
       "    <tr>\n",
       "      <th>4971</th>\n",
       "      <td>945d3c4a-b624-45a7-b5de-81a7088d6b74</td>\n",
       "      <td>C</td>\n",
       "      <td>none</td>\n",
       "    </tr>\n",
       "    <tr>\n",
       "      <th>4972</th>\n",
       "      <td>a5073a0b-8251-4f45-92fb-97c2bc9a053f</td>\n",
       "      <td>C</td>\n",
       "      <td>none</td>\n",
       "    </tr>\n",
       "    <tr>\n",
       "      <th>4973</th>\n",
       "      <td>2c786780-b7e2-45df-9a0c-1938c484f328</td>\n",
       "      <td>C</td>\n",
       "      <td>none</td>\n",
       "    </tr>\n",
       "    <tr>\n",
       "      <th>4974</th>\n",
       "      <td>cf624881-75f8-438f-88a8-43ba537bfe3b</td>\n",
       "      <td>C</td>\n",
       "      <td>none</td>\n",
       "    </tr>\n",
       "    <tr>\n",
       "      <th>4975</th>\n",
       "      <td>9a16d458-e196-4d8c-8060-bc79d7336553</td>\n",
       "      <td>C</td>\n",
       "      <td>none</td>\n",
       "    </tr>\n",
       "    <tr>\n",
       "      <th>4976</th>\n",
       "      <td>b9b920ac-9a88-47c6-8882-00cca3ee40b1</td>\n",
       "      <td>C</td>\n",
       "      <td>none</td>\n",
       "    </tr>\n",
       "    <tr>\n",
       "      <th>4977</th>\n",
       "      <td>b2eaae1d-2505-47b9-a24a-23f6c63f93a6</td>\n",
       "      <td>C</td>\n",
       "      <td>none</td>\n",
       "    </tr>\n",
       "    <tr>\n",
       "      <th>4978</th>\n",
       "      <td>71b32b6b-cb84-42ae-8062-ca0722bcfd0a</td>\n",
       "      <td>C</td>\n",
       "      <td>none</td>\n",
       "    </tr>\n",
       "    <tr>\n",
       "      <th>4979</th>\n",
       "      <td>bce930f6-e65c-4c5e-98b8-6fc78ddf3e87</td>\n",
       "      <td>C</td>\n",
       "      <td>none</td>\n",
       "    </tr>\n",
       "    <tr>\n",
       "      <th>4980</th>\n",
       "      <td>3df3ebd6-14ca-4132-98a6-68b226d3c2e5</td>\n",
       "      <td>C</td>\n",
       "      <td>none</td>\n",
       "    </tr>\n",
       "    <tr>\n",
       "      <th>4981</th>\n",
       "      <td>1d673f80-c1c5-46e0-bc52-5dd8a133147d</td>\n",
       "      <td>C</td>\n",
       "      <td>none</td>\n",
       "    </tr>\n",
       "    <tr>\n",
       "      <th>4982</th>\n",
       "      <td>7da81a79-5a41-4e98-92ba-f00637b58bcc</td>\n",
       "      <td>C</td>\n",
       "      <td>none</td>\n",
       "    </tr>\n",
       "    <tr>\n",
       "      <th>4983</th>\n",
       "      <td>bd00f045-7f1c-4b56-8515-d574b6958898</td>\n",
       "      <td>C</td>\n",
       "      <td>none</td>\n",
       "    </tr>\n",
       "    <tr>\n",
       "      <th>4984</th>\n",
       "      <td>4970134b-b71d-4e0f-87ff-7dc2827183ed</td>\n",
       "      <td>C</td>\n",
       "      <td>none</td>\n",
       "    </tr>\n",
       "    <tr>\n",
       "      <th>4985</th>\n",
       "      <td>f1cf55e6-3baa-49ea-8465-1d713e707e03</td>\n",
       "      <td>C</td>\n",
       "      <td>none</td>\n",
       "    </tr>\n",
       "    <tr>\n",
       "      <th>4986</th>\n",
       "      <td>b8c43823-b5a6-445d-879f-990f2cf647f5</td>\n",
       "      <td>C</td>\n",
       "      <td>none</td>\n",
       "    </tr>\n",
       "    <tr>\n",
       "      <th>4987</th>\n",
       "      <td>8ef57a7e-2f04-4b04-9082-f16b929cabec</td>\n",
       "      <td>C</td>\n",
       "      <td>none</td>\n",
       "    </tr>\n",
       "    <tr>\n",
       "      <th>4988</th>\n",
       "      <td>ff2fb6ed-e14e-430f-bc0e-4d0fb15c142c</td>\n",
       "      <td>C</td>\n",
       "      <td>none</td>\n",
       "    </tr>\n",
       "    <tr>\n",
       "      <th>4989</th>\n",
       "      <td>0277cd1b-fa11-498a-94e5-ce8184eafc63</td>\n",
       "      <td>C</td>\n",
       "      <td>Monday</td>\n",
       "    </tr>\n",
       "    <tr>\n",
       "      <th>4990</th>\n",
       "      <td>be6899b2-4d90-4145-8803-66ed2cd3a758</td>\n",
       "      <td>C</td>\n",
       "      <td>none</td>\n",
       "    </tr>\n",
       "    <tr>\n",
       "      <th>4991</th>\n",
       "      <td>67e5ac93-6039-4fc6-9417-1af997e9ade7</td>\n",
       "      <td>C</td>\n",
       "      <td>none</td>\n",
       "    </tr>\n",
       "    <tr>\n",
       "      <th>4992</th>\n",
       "      <td>68335145-ad33-4dec-bde8-b3fd4511d76c</td>\n",
       "      <td>C</td>\n",
       "      <td>none</td>\n",
       "    </tr>\n",
       "    <tr>\n",
       "      <th>4993</th>\n",
       "      <td>1f6fd5aa-f664-4e7a-aa97-112572085691</td>\n",
       "      <td>C</td>\n",
       "      <td>none</td>\n",
       "    </tr>\n",
       "    <tr>\n",
       "      <th>4994</th>\n",
       "      <td>ad76e16a-b28f-4eab-9271-cb505e50fbcf</td>\n",
       "      <td>C</td>\n",
       "      <td>none</td>\n",
       "    </tr>\n",
       "    <tr>\n",
       "      <th>4995</th>\n",
       "      <td>c9254ed4-e47f-4c31-b541-67afb66ce273</td>\n",
       "      <td>C</td>\n",
       "      <td>none</td>\n",
       "    </tr>\n",
       "    <tr>\n",
       "      <th>4996</th>\n",
       "      <td>e734362b-42b9-4ec5-81e9-3b7ab326478e</td>\n",
       "      <td>C</td>\n",
       "      <td>none</td>\n",
       "    </tr>\n",
       "    <tr>\n",
       "      <th>4997</th>\n",
       "      <td>36b4f7d6-a150-4db0-a34b-82afe767b584</td>\n",
       "      <td>C</td>\n",
       "      <td>none</td>\n",
       "    </tr>\n",
       "  </tbody>\n",
       "</table>\n",
       "<p>4998 rows × 3 columns</p>\n",
       "</div>"
      ],
      "text/plain": [
       "                                   user_id group  click_day\n",
       "0     8e27bf9a-5b6e-41ed-801a-a59979c0ca98     A       none\n",
       "1     eb89e6f0-e682-4f79-99b1-161cc1c096f1     A       none\n",
       "2     7119106a-7a95-417b-8c4c-092c12ee5ef7     A       none\n",
       "3     e53781ff-ff7a-4fcd-af1a-adba02b2b954     A       none\n",
       "4     02d48cf1-1ae6-40b3-9d8b-8208884a0904     A   Saturday\n",
       "5     5a3ca2d6-25d5-4909-8f07-519f71ee55e8     A       none\n",
       "6     6b929341-1336-4c34-965b-92e368ab160b     A       none\n",
       "7     90b0a07b-e20e-4e0a-872e-5cc303c5676b     A       none\n",
       "8     4b16c922-b2ab-48a8-885c-713ebf0ae159     A       none\n",
       "9     5eb5fc03-fbda-4149-b909-4f5fbc6b152f     A       none\n",
       "10    389ff492-4635-4535-8e42-685f771fccb1     A       none\n",
       "11    1d25885b-56c7-4fdd-bee8-6348c1386bf0     A   Thursday\n",
       "12    4546807b-8211-4e7b-94cf-4f9c879e284b     A       none\n",
       "13    c447f7f4-a419-41c6-af31-0a17f7943816     A       none\n",
       "14    e75754d9-9342-4f1f-84e1-75c340ef78b2     A       none\n",
       "15    0d38042c-2296-4526-b21c-6b00805688d4     A     Friday\n",
       "16    a54eeb29-1406-4032-bc2c-7d8166e4641a     A       none\n",
       "17    b54a48e0-ae75-44db-8421-d40cfa5cc3a7     A       none\n",
       "18    1a2ad0c4-3cb0-4346-9f77-6e42082a7433     A  Wednesday\n",
       "19    512ab2bb-0c2e-46a1-9f34-40b3d2ecee1a     A       none\n",
       "20    43d00167-768d-4488-ba32-650c8ab05a06     A       none\n",
       "21    0d28dceb-c377-40f1-a238-a0ef1c525dd4     A    Tuesday\n",
       "22    e66d263e-6746-4489-8ef6-8ab32c09a8c6     A       none\n",
       "23    5a795c56-8047-4546-a00c-2fa5fae5474e     A       none\n",
       "24    1cd795a0-c6a3-489d-ba09-7ad9b6d90a98     A   Thursday\n",
       "25    8e65d46a-a61d-465c-b2a7-c534bec6219b     A       none\n",
       "26    d2d00ec5-48ac-4813-9b03-cc6da1354bd7     A       none\n",
       "27    02f09387-0949-489e-bc49-508e4ae5a0be     A     Monday\n",
       "28    e395b3fb-46af-4e1c-b8d4-a1c4f490b46e     A       none\n",
       "29    c9499054-f8ac-4973-869f-14704694a1a9     A       none\n",
       "...                                    ...   ...        ...\n",
       "4968  563462e3-f22c-453d-a645-b1cf37ac0316     C       none\n",
       "4969  25d3b1df-8580-4533-947d-66ba9cba20c0     C       none\n",
       "4970  ebd8e192-0a13-49df-a4c4-b9c482f48e6f     C       none\n",
       "4971  945d3c4a-b624-45a7-b5de-81a7088d6b74     C       none\n",
       "4972  a5073a0b-8251-4f45-92fb-97c2bc9a053f     C       none\n",
       "4973  2c786780-b7e2-45df-9a0c-1938c484f328     C       none\n",
       "4974  cf624881-75f8-438f-88a8-43ba537bfe3b     C       none\n",
       "4975  9a16d458-e196-4d8c-8060-bc79d7336553     C       none\n",
       "4976  b9b920ac-9a88-47c6-8882-00cca3ee40b1     C       none\n",
       "4977  b2eaae1d-2505-47b9-a24a-23f6c63f93a6     C       none\n",
       "4978  71b32b6b-cb84-42ae-8062-ca0722bcfd0a     C       none\n",
       "4979  bce930f6-e65c-4c5e-98b8-6fc78ddf3e87     C       none\n",
       "4980  3df3ebd6-14ca-4132-98a6-68b226d3c2e5     C       none\n",
       "4981  1d673f80-c1c5-46e0-bc52-5dd8a133147d     C       none\n",
       "4982  7da81a79-5a41-4e98-92ba-f00637b58bcc     C       none\n",
       "4983  bd00f045-7f1c-4b56-8515-d574b6958898     C       none\n",
       "4984  4970134b-b71d-4e0f-87ff-7dc2827183ed     C       none\n",
       "4985  f1cf55e6-3baa-49ea-8465-1d713e707e03     C       none\n",
       "4986  b8c43823-b5a6-445d-879f-990f2cf647f5     C       none\n",
       "4987  8ef57a7e-2f04-4b04-9082-f16b929cabec     C       none\n",
       "4988  ff2fb6ed-e14e-430f-bc0e-4d0fb15c142c     C       none\n",
       "4989  0277cd1b-fa11-498a-94e5-ce8184eafc63     C     Monday\n",
       "4990  be6899b2-4d90-4145-8803-66ed2cd3a758     C       none\n",
       "4991  67e5ac93-6039-4fc6-9417-1af997e9ade7     C       none\n",
       "4992  68335145-ad33-4dec-bde8-b3fd4511d76c     C       none\n",
       "4993  1f6fd5aa-f664-4e7a-aa97-112572085691     C       none\n",
       "4994  ad76e16a-b28f-4eab-9271-cb505e50fbcf     C       none\n",
       "4995  c9254ed4-e47f-4c31-b541-67afb66ce273     C       none\n",
       "4996  e734362b-42b9-4ec5-81e9-3b7ab326478e     C       none\n",
       "4997  36b4f7d6-a150-4db0-a34b-82afe767b584     C       none\n",
       "\n",
       "[4998 rows x 3 columns]"
      ]
     },
     "execution_count": 5,
     "metadata": {},
     "output_type": "execute_result"
    }
   ],
   "source": [
    "df.fillna(\"none\")"
   ]
  },
  {
   "cell_type": "markdown",
   "metadata": {},
   "source": [
    "Define a new column called `is_purchase` which is `Purchase` if `click_day` is not `None` and `No Purchase` if `click_day` is `None`.  This will tell us if each visitor clicked on the Purchase link."
   ]
  },
  {
   "cell_type": "code",
   "execution_count": 7,
   "metadata": {
    "collapsed": false
   },
   "outputs": [],
   "source": [
    "df['is_purchase'] = np.where(df['click_day']==\"none\", 'NoPurchase', 'Purchase')"
   ]
  },
  {
   "cell_type": "markdown",
   "metadata": {
    "collapsed": true
   },
   "source": [
    "We want to count the number of users who made a purchase from each group.  Use `groupby` to count the number of `Purchase` and `No Purchase` from each `group`.  Save your answer to the variable `purchase_counts`.\n",
    "\n",
    "**Hint**: Group by `group` and `is_purchase` and the function `count` on the column `user_id`."
   ]
  },
  {
   "cell_type": "code",
   "execution_count": 33,
   "metadata": {
    "collapsed": false
   },
   "outputs": [
    {
     "name": "stdout",
     "output_type": "stream",
     "text": [
      "       is_purchase\n",
      "group             \n",
      "A             1666\n",
      "B             1666\n",
      "C             1666\n"
     ]
    }
   ],
   "source": [
    "purchase_counts = df.groupby('group')[['is_purchase']].count()\n",
    "print(purchase_counts)\n"
   ]
  },
  {
   "cell_type": "markdown",
   "metadata": {
    "collapsed": true
   },
   "source": [
    "\n",
    "\n",
    "                                                                                     This data is *categorical* and there are *more than 2* conditions, so we'll want to use a chi-squared test to see if there is a significant difference between the three conditions.\n",
    "\n",
    "Start by filling in the contingency table below with the correct values:\n",
    "```py\n",
    "contingency = [[groupA_purchases, groupA_not_purchases],\n",
    "               [groupB_purchases, groupB_not_purchases],\n",
    "               [groupC_purchases, groupC_not_purchases]]\n",
    "```"
   ]
  },
  {
   "cell_type": "code",
   "execution_count": 32,
   "metadata": {
    "collapsed": false
   },
   "outputs": [
    {
     "name": "stdout",
     "output_type": "stream",
     "text": [
      "1350\n"
     ]
    }
   ],
   "source": [
    "groupA_purchases = 316 \n",
    "groupA_not_purchases = (1666 - 316)\n",
    "groupB_purchases = 183\n",
    "groupB_not_purchases = (1666 - 183)\n",
    "groupC_purchases = 83\n",
    "groupC_not_purchases = (1666 - 83)\n",
    "print(groupA_not_purchases)"
   ]
  },
  {
   "cell_type": "markdown",
   "metadata": {},
   "source": [
    "Now import the function `chi2_contingency` from `scipy.stats` and perform the chi-squared test.\n",
    "\n",
    "Recall that the *p-value* is the second output of `chi2_contingency`."
   ]
  },
  {
   "cell_type": "code",
   "execution_count": 35,
   "metadata": {
    "collapsed": false
   },
   "outputs": [],
   "source": [
    "from scipy.stats import chi2_contingency as chi2"
   ]
  },
  {
   "cell_type": "code",
   "execution_count": 38,
   "metadata": {
    "collapsed": false
   },
   "outputs": [
    {
     "data": {
      "text/plain": [
       "(159.41952879874498,\n",
       " 2.4126213546684264e-35,\n",
       " 2,\n",
       " array([[  194.,   194.,   194.],\n",
       "        [ 1472.,  1472.,  1472.]]))"
      ]
     },
     "execution_count": 38,
     "metadata": {},
     "output_type": "execute_result"
    }
   ],
   "source": [
    "obs =np.array([[36, 183, 83], [1350, 1483, 1583]])\n",
    "chi2(obs)"
   ]
  },
  {
   "cell_type": "markdown",
   "metadata": {},
   "source": [
    "Great! It looks like a significantly greater portion of users from Group A made a purchase."
   ]
  },
  {
   "cell_type": "markdown",
   "metadata": {},
   "source": [
    "## Part 2: Testing for Exceeding a Goal\n",
    "\n",
    "Your day is a little less busy than you expected, so you decide to ask Brian about his test.\n",
    "\n",
    "**You**: Hey Brian! What was that test you were running anyway?\n",
    "\n",
    "**Brian**: It was awesome! We are trying to get users to purchase a small FarmBurg upgrade package.  It's called a microtransaction.  We're not sure how much to charge for it, so we tested three different price points: \\$0.99, \\$1.99, and \\$4.99.  It looks like significantly more people bought the upgrade package for \\$0.99, so I guess that's what we'll charge.\n",
    "\n",
    "**You**: Oh no! I should have asked you this before we did that chi-squared test.  I don't think that this was the right test at all.  It's true that more people wanted purchase the upgrade at \\$0.99; you probably expected that.  What we really want to know is if each price point allows us to make enough money that we can exceed some target goal.  Brian, how much do you think it cost to build this feature?\n",
    "\n",
    "**Brian**: Hmm.  I guess that we need to generate a minimum of $1000 per week in order to justify this project.\n",
    "\n",
    "**You**: We have some work to do!"
   ]
  },
  {
   "cell_type": "markdown",
   "metadata": {},
   "source": [
    "How many visitors came to the site this week?\n",
    "\n",
    "Hint: Look at the length of `df`."
   ]
  },
  {
   "cell_type": "code",
   "execution_count": 40,
   "metadata": {
    "collapsed": false
   },
   "outputs": [
    {
     "name": "stdout",
     "output_type": "stream",
     "text": [
      "<class 'pandas.core.frame.DataFrame'>\n",
      "RangeIndex: 4998 entries, 0 to 4997\n",
      "Data columns (total 4 columns):\n",
      "user_id        4998 non-null object\n",
      "group          4998 non-null object\n",
      "click_day      582 non-null object\n",
      "is_purchase    4998 non-null object\n",
      "dtypes: object(4)\n",
      "memory usage: 156.3+ KB\n"
     ]
    }
   ],
   "source": [
    "df.info()"
   ]
  },
  {
   "cell_type": "markdown",
   "metadata": {},
   "source": [
    "Let's assume that this is how many visitors we generally get each week.  Given that, calculate the percent of visitors who would need to purchase the upgrade package at each price point (\\$0.99, \\$1.99, \\$4.99) in order to generate \\$1000 per week."
   ]
  },
  {
   "cell_type": "code",
   "execution_count": 43,
   "metadata": {
    "collapsed": false
   },
   "outputs": [
    {
     "name": "stdout",
     "output_type": "stream",
     "text": [
      "20.21010424371769\n"
     ]
    }
   ],
   "source": [
    "# Calculate the number of people who would need to purchase a $0.99 upgrade in order to generate $1000.\n",
    "# Then divide by the number of people who visit the site each week.\n",
    "upgrade99 = (1000.00 / 0.99) / 4998 * 100\n",
    "print(upgrade99)\n"
   ]
  },
  {
   "cell_type": "code",
   "execution_count": 45,
   "metadata": {
    "collapsed": false
   },
   "outputs": [
    {
     "name": "stdout",
     "output_type": "stream",
     "text": [
      "10.054272965467593\n"
     ]
    }
   ],
   "source": [
    "# Calculate the number of people who would need to purchase a $1.99 upgrade in order to generate $1000.\n",
    "# Then divide by the number of people who visit the site each week.\n",
    "upgrade199 = (1000.00 / 1.99) / 4998 * 100\n",
    "print(upgrade199)"
   ]
  },
  {
   "cell_type": "code",
   "execution_count": 46,
   "metadata": {
    "collapsed": false
   },
   "outputs": [
    {
     "name": "stdout",
     "output_type": "stream",
     "text": [
      "4.0096198800161345\n"
     ]
    }
   ],
   "source": [
    "# Calculate the number of people who would need to purchase a $4.99 upgrade in order to generate $1000.\n",
    "# Then divide by the number of people who visit the site each week.\n",
    "upgrade499 = (1000.00 / 4.99) / 4998 * 100\n",
    "print(upgrade499)"
   ]
  },
  {
   "cell_type": "markdown",
   "metadata": {},
   "source": [
    "Note that you need a smaller percentage of purchases for higher price points.\n",
    "\n",
    "Now, for each group, perform a binomial test using `binom_test` from `scipy.stats`.\n",
    "- `x` will be the number of purchases for that group\n",
    "- `n` will be the total number of visitors assigned to that group\n",
    "- `p` will be the target percent of purchases for that price point (calculated above)\n",
    "\n",
    "Recall that:\n",
    "- Group `A` is the \\$0.99 price point\n",
    "- Group `B` is the \\$1.99 price point\n",
    "- Group `C` is the \\$4.99 price point"
   ]
  },
  {
   "cell_type": "code",
   "execution_count": 59,
   "metadata": {
    "collapsed": true
   },
   "outputs": [],
   "source": [
    "# import the binomial test from scipy.stats here\n",
    "from scipy.stats import binom_test "
   ]
  },
  {
   "cell_type": "code",
   "execution_count": 65,
   "metadata": {
    "collapsed": false
   },
   "outputs": [
    {
     "data": {
      "text/plain": [
       "0.34237389132235296"
      ]
     },
     "execution_count": 65,
     "metadata": {},
     "output_type": "execute_result"
    }
   ],
   "source": [
    "# Test group A here\n",
    "n = 1666\n",
    "x = 317\n",
    "p = 0.2\n",
    "binom_test(x, n, p)\n",
    "\n"
   ]
  },
  {
   "cell_type": "code",
   "execution_count": 66,
   "metadata": {
    "collapsed": false
   },
   "outputs": [
    {
     "data": {
      "text/plain": [
       "0.17788665960627839"
      ]
     },
     "execution_count": 66,
     "metadata": {},
     "output_type": "execute_result"
    }
   ],
   "source": [
    "# Test group B here\n",
    "n = 1666\n",
    "p = 0.1\n",
    "x = 183\n",
    "binom_test(x, n, p)"
   ]
  },
  {
   "cell_type": "code",
   "execution_count": 67,
   "metadata": {
    "collapsed": false
   },
   "outputs": [
    {
     "data": {
      "text/plain": [
       "0.04517298955409145"
      ]
     },
     "execution_count": 67,
     "metadata": {},
     "output_type": "execute_result"
    }
   ],
   "source": [
    "# Test group C here\n",
    "n = 1666\n",
    "p = 0.04\n",
    "x = 83\n",
    "binom_test(x, n, p)"
   ]
  },
  {
   "cell_type": "markdown",
   "metadata": {},
   "source": [
    "If any of the groups passed the binomial test with $p < 0.05$, then we can be confident that enough people will buy the upgrade package at that price point to justify the feature.\n",
    "\n",
    "Which price point should Brian go with?  Did this surprise you?"
   ]
  }
 ],
 "metadata": {
  "kernelspec": {
   "display_name": "Python 3",
   "language": "python",
   "name": "python3"
  },
  "language_info": {
   "codemirror_mode": {
    "name": "ipython",
    "version": 3
   },
   "file_extension": ".py",
   "mimetype": "text/x-python",
   "name": "python",
   "nbconvert_exporter": "python",
   "pygments_lexer": "ipython3",
   "version": "3.4.3"
  }
 },
 "nbformat": 4,
 "nbformat_minor": 2
}
